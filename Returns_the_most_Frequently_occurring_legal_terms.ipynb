{
 "cells": [
  {
   "cell_type": "markdown",
   "id": "f596ad57-6af6-416d-82f0-cc6d2c299f82",
   "metadata": {},
   "source": [
    "Qn.2: Write a function in Python that takes a list of legal documents (as strings) and returns the most frequently occurring legal terms (e.g., \"liability,\" \"indemnification\"). Optimize your solution for large datasets."
   ]
  },
  {
   "cell_type": "code",
   "execution_count": 6,
   "id": "7c6de3ed-446a-4d74-98a4-3be74d348df1",
   "metadata": {},
   "outputs": [
    {
     "name": "stdout",
     "output_type": "stream",
     "text": [
      "Collecting spacy\n",
      "  Downloading spacy-3.8.4-cp312-cp312-win_amd64.whl.metadata (27 kB)\n",
      "Collecting spacy-legacy<3.1.0,>=3.0.11 (from spacy)\n",
      "  Downloading spacy_legacy-3.0.12-py2.py3-none-any.whl.metadata (2.8 kB)\n",
      "Collecting spacy-loggers<2.0.0,>=1.0.0 (from spacy)\n",
      "  Downloading spacy_loggers-1.0.5-py3-none-any.whl.metadata (23 kB)\n",
      "Collecting murmurhash<1.1.0,>=0.28.0 (from spacy)\n",
      "  Downloading murmurhash-1.0.12-cp312-cp312-win_amd64.whl.metadata (2.2 kB)\n",
      "Collecting cymem<2.1.0,>=2.0.2 (from spacy)\n",
      "  Downloading cymem-2.0.11-cp312-cp312-win_amd64.whl.metadata (8.8 kB)\n",
      "Collecting preshed<3.1.0,>=3.0.2 (from spacy)\n",
      "  Downloading preshed-3.0.9-cp312-cp312-win_amd64.whl.metadata (2.2 kB)\n",
      "Collecting thinc<8.4.0,>=8.3.4 (from spacy)\n",
      "  Downloading thinc-8.3.4-cp312-cp312-win_amd64.whl.metadata (15 kB)\n",
      "Collecting wasabi<1.2.0,>=0.9.1 (from spacy)\n",
      "  Downloading wasabi-1.1.3-py3-none-any.whl.metadata (28 kB)\n",
      "Collecting srsly<3.0.0,>=2.4.3 (from spacy)\n",
      "  Downloading srsly-2.5.1-cp312-cp312-win_amd64.whl.metadata (20 kB)\n",
      "Collecting catalogue<2.1.0,>=2.0.6 (from spacy)\n",
      "  Downloading catalogue-2.0.10-py3-none-any.whl.metadata (14 kB)\n",
      "Collecting weasel<0.5.0,>=0.1.0 (from spacy)\n",
      "  Downloading weasel-0.4.1-py3-none-any.whl.metadata (4.6 kB)\n",
      "Collecting typer<1.0.0,>=0.3.0 (from spacy)\n",
      "  Downloading typer-0.15.1-py3-none-any.whl.metadata (15 kB)\n",
      "Requirement already satisfied: tqdm<5.0.0,>=4.38.0 in c:\\users\\jay shahapurakar\\anaconda3\\lib\\site-packages (from spacy) (4.66.5)\n",
      "Requirement already satisfied: numpy>=1.19.0 in c:\\users\\jay shahapurakar\\anaconda3\\lib\\site-packages (from spacy) (1.26.4)\n",
      "Requirement already satisfied: requests<3.0.0,>=2.13.0 in c:\\users\\jay shahapurakar\\anaconda3\\lib\\site-packages (from spacy) (2.32.3)\n",
      "Requirement already satisfied: pydantic!=1.8,!=1.8.1,<3.0.0,>=1.7.4 in c:\\users\\jay shahapurakar\\anaconda3\\lib\\site-packages (from spacy) (2.8.2)\n",
      "Requirement already satisfied: jinja2 in c:\\users\\jay shahapurakar\\anaconda3\\lib\\site-packages (from spacy) (3.1.4)\n",
      "Requirement already satisfied: setuptools in c:\\users\\jay shahapurakar\\anaconda3\\lib\\site-packages (from spacy) (75.1.0)\n",
      "Requirement already satisfied: packaging>=20.0 in c:\\users\\jay shahapurakar\\anaconda3\\lib\\site-packages (from spacy) (24.1)\n",
      "Collecting langcodes<4.0.0,>=3.2.0 (from spacy)\n",
      "  Downloading langcodes-3.5.0-py3-none-any.whl.metadata (29 kB)\n",
      "Collecting language-data>=1.2 (from langcodes<4.0.0,>=3.2.0->spacy)\n",
      "  Downloading language_data-1.3.0-py3-none-any.whl.metadata (4.3 kB)\n",
      "Requirement already satisfied: annotated-types>=0.4.0 in c:\\users\\jay shahapurakar\\anaconda3\\lib\\site-packages (from pydantic!=1.8,!=1.8.1,<3.0.0,>=1.7.4->spacy) (0.6.0)\n",
      "Requirement already satisfied: pydantic-core==2.20.1 in c:\\users\\jay shahapurakar\\anaconda3\\lib\\site-packages (from pydantic!=1.8,!=1.8.1,<3.0.0,>=1.7.4->spacy) (2.20.1)\n",
      "Requirement already satisfied: typing-extensions>=4.6.1 in c:\\users\\jay shahapurakar\\anaconda3\\lib\\site-packages (from pydantic!=1.8,!=1.8.1,<3.0.0,>=1.7.4->spacy) (4.11.0)\n",
      "Requirement already satisfied: charset-normalizer<4,>=2 in c:\\users\\jay shahapurakar\\anaconda3\\lib\\site-packages (from requests<3.0.0,>=2.13.0->spacy) (3.3.2)\n",
      "Requirement already satisfied: idna<4,>=2.5 in c:\\users\\jay shahapurakar\\anaconda3\\lib\\site-packages (from requests<3.0.0,>=2.13.0->spacy) (3.7)\n",
      "Requirement already satisfied: urllib3<3,>=1.21.1 in c:\\users\\jay shahapurakar\\anaconda3\\lib\\site-packages (from requests<3.0.0,>=2.13.0->spacy) (2.2.3)\n",
      "Requirement already satisfied: certifi>=2017.4.17 in c:\\users\\jay shahapurakar\\anaconda3\\lib\\site-packages (from requests<3.0.0,>=2.13.0->spacy) (2024.8.30)\n",
      "Collecting blis<1.3.0,>=1.2.0 (from thinc<8.4.0,>=8.3.4->spacy)\n",
      "  Downloading blis-1.2.0-cp312-cp312-win_amd64.whl.metadata (7.9 kB)\n",
      "Collecting confection<1.0.0,>=0.0.1 (from thinc<8.4.0,>=8.3.4->spacy)\n",
      "  Downloading confection-0.1.5-py3-none-any.whl.metadata (19 kB)\n",
      "Requirement already satisfied: colorama in c:\\users\\jay shahapurakar\\anaconda3\\lib\\site-packages (from tqdm<5.0.0,>=4.38.0->spacy) (0.4.6)\n",
      "Requirement already satisfied: click>=8.0.0 in c:\\users\\jay shahapurakar\\anaconda3\\lib\\site-packages (from typer<1.0.0,>=0.3.0->spacy) (8.1.7)\n",
      "Collecting shellingham>=1.3.0 (from typer<1.0.0,>=0.3.0->spacy)\n",
      "  Downloading shellingham-1.5.4-py2.py3-none-any.whl.metadata (3.5 kB)\n",
      "Requirement already satisfied: rich>=10.11.0 in c:\\users\\jay shahapurakar\\anaconda3\\lib\\site-packages (from typer<1.0.0,>=0.3.0->spacy) (13.7.1)\n",
      "Collecting cloudpathlib<1.0.0,>=0.7.0 (from weasel<0.5.0,>=0.1.0->spacy)\n",
      "  Downloading cloudpathlib-0.20.0-py3-none-any.whl.metadata (14 kB)\n",
      "Requirement already satisfied: smart-open<8.0.0,>=5.2.1 in c:\\users\\jay shahapurakar\\anaconda3\\lib\\site-packages (from weasel<0.5.0,>=0.1.0->spacy) (5.2.1)\n",
      "Requirement already satisfied: MarkupSafe>=2.0 in c:\\users\\jay shahapurakar\\anaconda3\\lib\\site-packages (from jinja2->spacy) (2.1.3)\n",
      "Collecting marisa-trie>=1.1.0 (from language-data>=1.2->langcodes<4.0.0,>=3.2.0->spacy)\n",
      "  Downloading marisa_trie-1.2.1-cp312-cp312-win_amd64.whl.metadata (9.3 kB)\n",
      "Requirement already satisfied: markdown-it-py>=2.2.0 in c:\\users\\jay shahapurakar\\anaconda3\\lib\\site-packages (from rich>=10.11.0->typer<1.0.0,>=0.3.0->spacy) (2.2.0)\n",
      "Requirement already satisfied: pygments<3.0.0,>=2.13.0 in c:\\users\\jay shahapurakar\\anaconda3\\lib\\site-packages (from rich>=10.11.0->typer<1.0.0,>=0.3.0->spacy) (2.15.1)\n",
      "Requirement already satisfied: mdurl~=0.1 in c:\\users\\jay shahapurakar\\anaconda3\\lib\\site-packages (from markdown-it-py>=2.2.0->rich>=10.11.0->typer<1.0.0,>=0.3.0->spacy) (0.1.0)\n",
      "Downloading spacy-3.8.4-cp312-cp312-win_amd64.whl (11.8 MB)\n",
      "   ---------------------------------------- 0.0/11.8 MB ? eta -:--:--\n",
      "   ----- ---------------------------------- 1.6/11.8 MB 10.5 MB/s eta 0:00:01\n",
      "   ------------- -------------------------- 3.9/11.8 MB 10.7 MB/s eta 0:00:01\n",
      "   --------------------- ------------------ 6.3/11.8 MB 11.3 MB/s eta 0:00:01\n",
      "   ----------------------------- ---------- 8.7/11.8 MB 11.0 MB/s eta 0:00:01\n",
      "   -------------------------------- ------- 9.7/11.8 MB 9.7 MB/s eta 0:00:01\n",
      "   ------------------------------------ --- 10.7/11.8 MB 8.9 MB/s eta 0:00:01\n",
      "   ---------------------------------------  11.5/11.8 MB 8.2 MB/s eta 0:00:01\n",
      "   ---------------------------------------- 11.8/11.8 MB 7.6 MB/s eta 0:00:00\n",
      "Downloading catalogue-2.0.10-py3-none-any.whl (17 kB)\n",
      "Downloading cymem-2.0.11-cp312-cp312-win_amd64.whl (39 kB)\n",
      "Downloading langcodes-3.5.0-py3-none-any.whl (182 kB)\n",
      "Downloading murmurhash-1.0.12-cp312-cp312-win_amd64.whl (25 kB)\n",
      "Downloading preshed-3.0.9-cp312-cp312-win_amd64.whl (122 kB)\n",
      "Downloading spacy_legacy-3.0.12-py2.py3-none-any.whl (29 kB)\n",
      "Downloading spacy_loggers-1.0.5-py3-none-any.whl (22 kB)\n",
      "Downloading srsly-2.5.1-cp312-cp312-win_amd64.whl (632 kB)\n",
      "   ---------------------------------------- 0.0/632.6 kB ? eta -:--:--\n",
      "   --------------------------------------- 632.6/632.6 kB 12.0 MB/s eta 0:00:00\n",
      "Downloading thinc-8.3.4-cp312-cp312-win_amd64.whl (1.5 MB)\n",
      "   ---------------------------------------- 0.0/1.5 MB ? eta -:--:--\n",
      "   ---------------------------------------- 1.5/1.5 MB 8.5 MB/s eta 0:00:00\n",
      "Downloading typer-0.15.1-py3-none-any.whl (44 kB)\n",
      "Downloading wasabi-1.1.3-py3-none-any.whl (27 kB)\n",
      "Downloading weasel-0.4.1-py3-none-any.whl (50 kB)\n",
      "Downloading blis-1.2.0-cp312-cp312-win_amd64.whl (6.3 MB)\n",
      "   ---------------------------------------- 0.0/6.3 MB ? eta -:--:--\n",
      "   --------------- ------------------------ 2.4/6.3 MB 11.2 MB/s eta 0:00:01\n",
      "   -------------------------- ------------- 4.2/6.3 MB 11.0 MB/s eta 0:00:01\n",
      "   ---------------------------------------- 6.3/6.3 MB 10.1 MB/s eta 0:00:00\n",
      "Downloading cloudpathlib-0.20.0-py3-none-any.whl (52 kB)\n",
      "Downloading confection-0.1.5-py3-none-any.whl (35 kB)\n",
      "Downloading language_data-1.3.0-py3-none-any.whl (5.4 MB)\n",
      "   ---------------------------------------- 0.0/5.4 MB ? eta -:--:--\n",
      "   ----------------- ---------------------- 2.4/5.4 MB 11.2 MB/s eta 0:00:01\n",
      "   ------------------------- -------------- 3.4/5.4 MB 7.7 MB/s eta 0:00:01\n",
      "   --------------------------------- ------ 4.5/5.4 MB 6.9 MB/s eta 0:00:01\n",
      "   ---------------------------------------- 5.4/5.4 MB 7.0 MB/s eta 0:00:00\n",
      "Downloading shellingham-1.5.4-py2.py3-none-any.whl (9.8 kB)\n",
      "Downloading marisa_trie-1.2.1-cp312-cp312-win_amd64.whl (150 kB)\n",
      "Installing collected packages: cymem, wasabi, spacy-loggers, spacy-legacy, shellingham, murmurhash, marisa-trie, cloudpathlib, catalogue, blis, srsly, preshed, language-data, typer, langcodes, confection, weasel, thinc, spacy\n",
      "Successfully installed blis-1.2.0 catalogue-2.0.10 cloudpathlib-0.20.0 confection-0.1.5 cymem-2.0.11 langcodes-3.5.0 language-data-1.3.0 marisa-trie-1.2.1 murmurhash-1.0.12 preshed-3.0.9 shellingham-1.5.4 spacy-3.8.4 spacy-legacy-3.0.12 spacy-loggers-1.0.5 srsly-2.5.1 thinc-8.3.4 typer-0.15.1 wasabi-1.1.3 weasel-0.4.1\n"
     ]
    }
   ],
   "source": [
    "! pip  install spacy"
   ]
  },
  {
   "cell_type": "code",
   "execution_count": 8,
   "id": "ac7d43f9-3906-4668-8681-1dfb1d343ef6",
   "metadata": {},
   "outputs": [],
   "source": [
    "import spacy\n",
    "from collections import Counter"
   ]
  },
  {
   "cell_type": "code",
   "execution_count": 13,
   "id": "1551f48f-1315-4e08-8780-d8aa7d8c32ed",
   "metadata": {},
   "outputs": [
    {
     "name": "stdout",
     "output_type": "stream",
     "text": [
      "Collecting en-core-web-sm==3.8.0\n",
      "  Downloading https://github.com/explosion/spacy-models/releases/download/en_core_web_sm-3.8.0/en_core_web_sm-3.8.0-py3-none-any.whl (12.8 MB)\n",
      "     ---------------------------------------- 0.0/12.8 MB ? eta -:--:--\n",
      "     ----- ---------------------------------- 1.8/12.8 MB 11.2 MB/s eta 0:00:01\n",
      "     ------------- -------------------------- 4.2/12.8 MB 11.0 MB/s eta 0:00:01\n",
      "     ------------------- -------------------- 6.3/12.8 MB 11.4 MB/s eta 0:00:01\n",
      "     -------------------- ------------------- 6.6/12.8 MB 10.9 MB/s eta 0:00:01\n",
      "     ---------------------- ----------------- 7.3/12.8 MB 7.4 MB/s eta 0:00:01\n",
      "     ------------------------ --------------- 7.9/12.8 MB 6.4 MB/s eta 0:00:01\n",
      "     --------------------------- ------------ 8.7/12.8 MB 6.1 MB/s eta 0:00:01\n",
      "     ----------------------------- ---------- 9.4/12.8 MB 6.1 MB/s eta 0:00:01\n",
      "     ------------------------------ --------- 9.7/12.8 MB 5.3 MB/s eta 0:00:01\n",
      "     -------------------------------- ------- 10.5/12.8 MB 5.0 MB/s eta 0:00:01\n",
      "     ------------------------------------ --- 11.5/12.8 MB 5.1 MB/s eta 0:00:01\n",
      "     ---------------------------------------- 12.8/12.8 MB 5.1 MB/s eta 0:00:00\n",
      "Installing collected packages: en-core-web-sm\n",
      "Successfully installed en-core-web-sm-3.8.0\n",
      "\u001b[38;5;2m[+] Download and installation successful\u001b[0m\n",
      "You can now load the package via spacy.load('en_core_web_sm')\n"
     ]
    }
   ],
   "source": [
    "!python -m spacy download en_core_web_sm\n"
   ]
  },
  {
   "cell_type": "code",
   "execution_count": null,
   "id": "e7959808-bc4a-4f57-a1f1-ba815b26093a",
   "metadata": {},
   "outputs": [],
   "source": []
  },
  {
   "cell_type": "markdown",
   "id": "acee633f-7320-4f73-b9fd-f2ff5c466362",
   "metadata": {},
   "source": [
    "Here’s an optimized Python function to extract the most frequently occurring legal terms from a list of legal documents:\n",
    "\n",
    "Approach:\n",
    "\n",
    "Efficient Tokenization: Use spaCy's NLP pipeline for tokenization and lemmatization.\n",
    "\n",
    "Stopword Removal: Filter out common stopwords and non-legal terms.\n",
    "\n",
    "Frequency Calculation: Use Counter from collections for efficient word counting.\n",
    "\n",
    "Optimization: Process large datasets using a generator to reduce memory usage."
   ]
  },
  {
   "cell_type": "code",
   "execution_count": null,
   "id": "53b8f2a2-8a16-4849-8aae-3c0522762e34",
   "metadata": {},
   "outputs": [],
   "source": []
  },
  {
   "cell_type": "markdown",
   "id": "e27ad902-22c4-4081-8197-666a43887a88",
   "metadata": {},
   "source": [
    "## Code Implementation:"
   ]
  },
  {
   "cell_type": "code",
   "execution_count": 20,
   "id": "984a4907-5852-4091-a5b7-949d6eb68218",
   "metadata": {},
   "outputs": [
    {
     "name": "stdout",
     "output_type": "stream",
     "text": [
      "([('liability', 1), ('indemnification', 1), ('dispute', 1), ('termination', 1), ('breach', 1)],)\n"
     ]
    }
   ],
   "source": [
    "\n",
    "\n",
    "# Load spaCy's English NLP model,\n",
    "nlp = spacy.load(\"en_core_web_sm\")\n",
    "\n",
    "\n",
    "# Define some common legal terms we want to track,\n",
    "LEGAL_TERMS = {\n",
    "    \"liability\", \"indemnification\", \"warranty\", \"termination\",\n",
    "    \"confidentiality\", \"damages\", \"jurisdiction\", \"dispute\", \"breach\"\n",
    "}\n",
    "\n",
    "\n",
    "def extract_frequent_legal_terms(documents, top_n=10):\n",
    "    \"\"\"\n",
    "    Finds the most frequently occurring legal terms in a list of legal documents.\n",
    "    \n",
    "    :param documents: List of documents (each as a string).\n",
    "    :param top_n: Number of top terms to return.\n",
    "    :return: List of tuples (term, frequency).\n",
    "    \"\"\"\n",
    "    term_counts = Counter()\n",
    "\n",
    "    \n",
    "    # Process each document one at a time (memory efficient),\n",
    "    for doc in documents:\n",
    "        spacy_doc = nlp(doc)\n",
    "        \n",
    "        # Extract words that match our legal terms,\n",
    "        for token in spacy_doc:\n",
    "            lemma = token.lemma_.lower()\n",
    "            if lemma in LEGAL_TERMS:\n",
    "                term_counts[lemma] += 1\n",
    "\n",
    "    \n",
    "    # Get the most common legal terms\n",
    "    return term_counts.most_common(top_n),\n",
    "\n",
    "\n",
    "# Example usage,\n",
    "if __name__ == \"__main__\":\n",
    "    docs = [\n",
    "        \"The liability clause states that the company is not responsible for damages.\",\n",
    "        \"Indemnification shall be provided in case of a legal dispute.\",\n",
    "        \"Termination of the contract shall occur in case of breach.\",\n",
    "    ]\n",
    "\n",
    "    \n",
    "    print(extract_frequent_legal_terms(docs))\n"
   ]
  },
  {
   "cell_type": "code",
   "execution_count": null,
   "id": "98d6390f-05c2-4724-b8ce-2f915e7f4bf2",
   "metadata": {},
   "outputs": [],
   "source": []
  },
  {
   "cell_type": "markdown",
   "id": "35320ce2-7dc7-43b3-827c-29395733ce25",
   "metadata": {},
   "source": [
    "## Why is this optimized for large datasets:"
   ]
  },
  {
   "cell_type": "markdown",
   "id": "34d241a2-cecf-486d-b9ff-4c2e121763d0",
   "metadata": {},
   "source": [
    "\n",
    "-Streaming Processing: Uses nlp.pipe() instead of processing documents one by one, reducing memory overhead.\n",
    "\n",
    "-Batch Processing: Processes multiple documents at once, improving efficiency.\n",
    "\n",
    "-Memory Efficient: Works with generators/iterables instead of loading everything into memory.\n",
    "\n",
    "-Disabling Unnecessary Components: Loads spaCy with only tokenizer and lemmatizer for speed."
   ]
  },
  {
   "cell_type": "code",
   "execution_count": null,
   "id": "9c1778bf-a394-4d45-a168-9325799c86ed",
   "metadata": {},
   "outputs": [],
   "source": []
  },
  {
   "cell_type": "markdown",
   "id": "2c2493fc-9c45-4d23-9a10-46cd26d5fefc",
   "metadata": {},
   "source": [
    "## Optimization:-"
   ]
  },
  {
   "cell_type": "code",
   "execution_count": null,
   "id": "8e73373a-56a0-496e-8bbc-9b5cce1bcb7b",
   "metadata": {},
   "outputs": [],
   "source": []
  },
  {
   "cell_type": "code",
   "execution_count": 27,
   "id": "8bc5f539-0d85-4410-8a4a-4e4ce81e2379",
   "metadata": {},
   "outputs": [
    {
     "name": "stdout",
     "output_type": "stream",
     "text": [
      "[('liability', 1), ('indemnification', 1), ('dispute', 1), ('termination', 1), ('breach', 1)]\n"
     ]
    }
   ],
   "source": [
    "\n",
    "# Load spaCy model with only necessary components (tokenizer + lemmatizer),\n",
    "nlp = spacy.load(\"en_core_web_sm\", disable=[\"parser\", \"ner\"])\n",
    "\n",
    "\n",
    "# Define key legal terms to track,\n",
    "LEGAL_TERMS = {\n",
    "    \"liability\", \"indemnification\", \"warranty\", \"termination\",\n",
    "    \"confidentiality\", \"damages\", \"jurisdiction\", \"dispute\", \"breach\"\n",
    "}\n",
    "\n",
    "\n",
    "\n",
    "def extract_frequent_legal_terms(documents, top_n=10):\n",
    "    \"\"\"\n",
    "    Extracts the most frequent legal terms from a list of legal documents.\n",
    "    Optimized for large datasets using batch processing.\n",
    "\n",
    "    :param documents: Iterable of legal documents (each as a string).\n",
    "    :param top_n: Number of most common terms to return.\n",
    "    :return: List of (term, frequency) tuples.\n",
    "    \"\"\"\n",
    "    term_counts = Counter()\n",
    "\n",
    "    \n",
    "    # Process documents efficiently in batches,\n",
    "    for doc in nlp.pipe(documents, batch_size=50):  \n",
    "        for token in doc:\n",
    "            lemma = token.lemma_.lower()\n",
    "            if lemma in LEGAL_TERMS:\n",
    "                term_counts[lemma] += 1\n",
    "\n",
    "    return term_counts.most_common(top_n)\n",
    "\n",
    "\n",
    "# Example usage,\n",
    "if __name__ == \"__main__\":\n",
    "    documents = [\n",
    "        \"The liability clause states that the company is not responsible for damages.\",\n",
    "        \"Indemnification shall be provided in case of a legal dispute.\",\n",
    "        \"Termination of the contract shall occur in case of breach.\"\n",
    "    ]\n",
    "\n",
    "    print(extract_frequent_legal_terms(documents))\n"
   ]
  },
  {
   "cell_type": "code",
   "execution_count": null,
   "id": "0a052d5d-a092-4ddf-918b-cc81bd6f8c2b",
   "metadata": {},
   "outputs": [],
   "source": []
  }
 ],
 "metadata": {
  "kernelspec": {
   "display_name": "Python 3 (ipykernel)",
   "language": "python",
   "name": "python3"
  },
  "language_info": {
   "codemirror_mode": {
    "name": "ipython",
    "version": 3
   },
   "file_extension": ".py",
   "mimetype": "text/x-python",
   "name": "python",
   "nbconvert_exporter": "python",
   "pygments_lexer": "ipython3",
   "version": "3.12.7"
  }
 },
 "nbformat": 4,
 "nbformat_minor": 5
}
